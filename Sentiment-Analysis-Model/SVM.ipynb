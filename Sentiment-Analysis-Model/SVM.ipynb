{
 "cells": [
  {
   "cell_type": "code",
   "execution_count": 2,
   "metadata": {},
   "outputs": [
    {
     "name": "stdout",
     "output_type": "stream",
     "text": [
      "Accuracy: 0.7556701030927835\n",
      "Classification Report:\n",
      "              precision    recall  f1-score   support\n",
      "\n",
      "    negative       0.78      0.45      0.57       110\n",
      "     neutral       0.75      0.94      0.84       571\n",
      "    positive       0.76      0.51      0.61       289\n",
      "\n",
      "    accuracy                           0.76       970\n",
      "   macro avg       0.77      0.63      0.67       970\n",
      "weighted avg       0.76      0.76      0.74       970\n",
      "\n"
     ]
    }
   ],
   "source": [
    "import pandas as pd\n",
    "from sklearn.model_selection import train_test_split\n",
    "from sklearn.feature_extraction.text import TfidfVectorizer\n",
    "from sklearn.svm import SVC\n",
    "from sklearn.metrics import accuracy_score, classification_report\n",
    "from sklearn.preprocessing import LabelEncoder\n",
    "\n",
    "# 데이터 로딩\n",
    "data = pd.read_csv('finance_data.csv')\n",
    "\n",
    "# 라벨 인코딩 (Label Encoding)\n",
    "label_encoder = LabelEncoder()\n",
    "data['labels'] = label_encoder.fit_transform(data['labels'])\n",
    "\n",
    "# 데이터 분리 (train/test split)\n",
    "X_train, X_test, y_train, y_test = train_test_split(data['kor_sentence'], data['labels'], test_size=0.2, random_state=42)\n",
    "\n",
    "# TF-IDF 벡터화 (TF-IDF Vectorization)\n",
    "tfidf = TfidfVectorizer(max_features=5000, ngram_range=(1, 2))\n",
    "X_train_tfidf = tfidf.fit_transform(X_train)\n",
    "X_test_tfidf = tfidf.transform(X_test)\n",
    "\n",
    "# SVM 모델 초기화 및 학습 (SVM Model Initialization and Training)\n",
    "svm = SVC(kernel='linear', C=1, random_state=42)\n",
    "svm.fit(X_train_tfidf, y_train)\n",
    "\n",
    "# 예측 수행 (Making Predictions)\n",
    "y_pred = svm.predict(X_test_tfidf)\n",
    "\n",
    "# 성능 평가 (Performance Evaluation)\n",
    "accuracy = accuracy_score(y_test, y_pred)\n",
    "print(f\"Accuracy: {accuracy}\")\n",
    "print(\"Classification Report:\")\n",
    "print(classification_report(y_test, y_pred, target_names=label_encoder.classes_))\n",
    "\n",
    "# 예측 함수 (Prediction Function)\n",
    "def predict_review(sentence, model, tfidf, label_encoder):\n",
    "    # 입력 데이터 벡터화 (Vectorization of the Input Data)\n",
    "    sentence_tfidf = tfidf.transform([sentence])\n",
    "    \n",
    "    # 예측 수행 (Making a Prediction)\n",
    "    prediction = model.predict(sentence_tfidf)\n",
    "    \n",
    "    # 라벨 역매핑 (Label Decoding)\n",
    "    predicted_label = label_encoder.inverse_transform(prediction)\n",
    "    \n",
    "    return predicted_label[0]"
   ]
  },
  {
   "cell_type": "code",
   "execution_count": 3,
   "metadata": {},
   "outputs": [
    {
     "name": "stdout",
     "output_type": "stream",
     "text": [
      "Predicted label: neutral\n"
     ]
    }
   ],
   "source": [
    "# 예제 문장 예측 (Predicting Example Sentences)\n",
    "example_sentence = \" \"\n",
    "predicted_label = predict_review(example_sentence, svm, tfidf, label_encoder)\n",
    "print(f\"Predicted label: {predicted_label}\")"
   ]
  },
  {
   "cell_type": "code",
   "execution_count": 4,
   "metadata": {},
   "outputs": [],
   "source": [
    "# 결과 저장 (Saving the Results)\n",
    "data['predict_labels'] = data['kor_sentence'].apply(lambda x: predict_review(x, svm, tfidf, label_encoder))\n",
    "data.to_csv('finance_data_with_svm_predictions.csv', index=False)"
   ]
  }
 ],
 "metadata": {
  "kernelspec": {
   "display_name": "Python 3",
   "language": "python",
   "name": "python3"
  },
  "language_info": {
   "codemirror_mode": {
    "name": "ipython",
    "version": 3
   },
   "file_extension": ".py",
   "mimetype": "text/x-python",
   "name": "python",
   "nbconvert_exporter": "python",
   "pygments_lexer": "ipython3",
   "version": "3.12.2"
  }
 },
 "nbformat": 4,
 "nbformat_minor": 2
}
